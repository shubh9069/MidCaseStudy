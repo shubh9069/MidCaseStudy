{
 "cells": [
  {
   "cell_type": "code",
   "execution_count": 40,
   "id": "22b61b7c",
   "metadata": {},
   "outputs": [],
   "source": [
    "import pyspark\n",
    "from pyspark.sql import SparkSession\n",
    "\n",
    "spark = SparkSession.builder.appName(\"MOVIES\").getOrCreate()"
   ]
  },
  {
   "cell_type": "code",
   "execution_count": null,
   "id": "39d10053",
   "metadata": {},
   "outputs": [],
   "source": []
  },
  {
   "cell_type": "code",
   "execution_count": 41,
   "id": "842fbd6f",
   "metadata": {},
   "outputs": [
    {
     "name": "stdout",
     "output_type": "stream",
     "text": [
      "+--------+\n",
      "|count(1)|\n",
      "+--------+\n",
      "|    3886|\n",
      "+--------+\n",
      "\n"
     ]
    }
   ],
   "source": [
    "source_path = \"/home/labuser/Downloads/Hydra-Movie-Scrape.csv\"\n",
    "movies_df = spark.read.csv(source_path, header=True, inferSchema=True)\n",
    "\n",
    "movies_df.createOrReplaceTempView(\"movies\")\n",
    "\n",
    "result = spark.sql(\"SELECT count(*) FROM movies\")\n",
    "result.show()\n"
   ]
  },
  {
   "cell_type": "code",
   "execution_count": 43,
   "id": "a73fdfa4",
   "metadata": {},
   "outputs": [
    {
     "name": "stdout",
     "output_type": "stream",
     "text": [
      "+-----------+\n",
      "|max(Rating)|\n",
      "+-----------+\n",
      "|zQ29OLAmqBI|\n",
      "+-----------+\n",
      "\n"
     ]
    }
   ],
   "source": [
    "result = spark.sql(\"select max(Rating) from movies\")\n",
    "result.show()"
   ]
  },
  {
   "cell_type": "code",
   "execution_count": 45,
   "id": "a0612100",
   "metadata": {},
   "outputs": [],
   "source": [
    "from pyspark.sql import SparkSession\n",
    "from pyspark.sql.functions import year, avg, max, min, count, col, desc"
   ]
  },
  {
   "cell_type": "code",
   "execution_count": 46,
   "id": "7c0daad9",
   "metadata": {},
   "outputs": [
    {
     "data": {
      "text/plain": [
       "Row(Title='The Carmilla Movie', Year=2017, Summary='\"It has been five years since Laura and Carmilla vanquished the apocalypse and Carmilla became a bona fide mortal human. They have settled in to a cozy apartment in downtown Toronto; Laura continues to hone her journalism skills while Carmilla adjusts to a non-vampire lifestyle. Their domestic bliss is suddenly ruptured when Carmilla begins to show signs of \"\"re-vamping\"\" - from a fondness for bloody treats to accidental biting - while Laura has started having bizarre', Short Summary=' ghostly dreams. The couple must now enlist their old friends from Silas University to uncover the unknown supernatural threat and save humanity - including Carmilla\\'s.\"', IMDB ID='It has been five years since Laura and Carmilla vanquished the apocalypse and Carmilla became a bona fide mortal human. They have settled in to a cozy apartment in downtown Toronto; Laura ...', Runtime='tt7427856', YouTube Trailer='97', Rating='g2wZdJ0KKyk', Movie Poster='7.2', Director='https://hydramovies.com/wp-content/uploads/2018/07/The-Carmilla-Movie-Movie-Poster.jpg', Writers='Spencer Maybee', Cast='Alejandro Alcoba')"
      ]
     },
     "execution_count": 46,
     "metadata": {},
     "output_type": "execute_result"
    }
   ],
   "source": [
    "longest=movies_df.orderBy(desc(\"Runtime\")).first()\n",
    "longest"
   ]
  },
  {
   "cell_type": "code",
   "execution_count": 71,
   "id": "673713a9",
   "metadata": {},
   "outputs": [],
   "source": [
    "# i) Which movies were released in the year 2020?\n",
    "# movies_2020 = movies_df.filter(year(col('Year')) == 2020)\n"
   ]
  },
  {
   "cell_type": "code",
   "execution_count": 19,
   "id": "c6403113",
   "metadata": {},
   "outputs": [
    {
     "data": {
      "text/plain": [
       "8.491017285349974"
      ]
     },
     "execution_count": 19,
     "metadata": {},
     "output_type": "execute_result"
    }
   ],
   "source": [
    "# ii)\n",
    "average_rating = movies_df.select(avg(\"Rating\")).collect()[0][0]\n",
    "average_rating"
   ]
  },
  {
   "cell_type": "code",
   "execution_count": null,
   "id": "807a228d",
   "metadata": {
    "scrolled": true
   },
   "outputs": [],
   "source": []
  },
  {
   "cell_type": "code",
   "execution_count": 32,
   "id": "85eb00f7",
   "metadata": {},
   "outputs": [
    {
     "name": "stdout",
     "output_type": "stream",
     "text": [
      "+------------+\n",
      "|max(Runtime)|\n",
      "+------------+\n",
      "|   tt7427856|\n",
      "+------------+\n",
      "\n"
     ]
    }
   ],
   "source": [
    "movies_df.agg(max(\"Runtime\")).show()\n",
    "# max_runtime_value\n"
   ]
  },
  {
   "cell_type": "code",
   "execution_count": 35,
   "id": "98482215",
   "metadata": {},
   "outputs": [
    {
     "data": {
      "text/plain": [
       "[StructField('Title', StringType(), True),\n",
       " StructField('Year', IntegerType(), True),\n",
       " StructField('Summary', StringType(), True),\n",
       " StructField('Short Summary', StringType(), True),\n",
       " StructField('IMDB ID', StringType(), True),\n",
       " StructField('Runtime', StringType(), True),\n",
       " StructField('YouTube Trailer', StringType(), True),\n",
       " StructField('Rating', StringType(), True),\n",
       " StructField('Movie Poster', StringType(), True),\n",
       " StructField('Director', StringType(), True),\n",
       " StructField('Writers', StringType(), True),\n",
       " StructField('Cast', StringType(), True)]"
      ]
     },
     "execution_count": 35,
     "metadata": {},
     "output_type": "execute_result"
    }
   ],
   "source": [
    "movies_df.schema.fields\n"
   ]
  },
  {
   "cell_type": "code",
   "execution_count": null,
   "id": "75abfcc5",
   "metadata": {},
   "outputs": [],
   "source": [
    "result = spark.sql(\"Move\")"
   ]
  },
  {
   "cell_type": "code",
   "execution_count": 7,
   "id": "ae272901",
   "metadata": {},
   "outputs": [
    {
     "name": "stdout",
     "output_type": "stream",
     "text": [
      "vi) Movies with IMDb rating greater than 8.0:\n",
      "+--------------------+----+--------------------+--------------------+--------------------+--------------------+---------------+------+--------------------+------------------+--------------------+--------------------+\n",
      "|               Title|Year|             Summary|       Short Summary|             IMDB ID|             Runtime|YouTube Trailer|Rating|        Movie Poster|          Director|             Writers|                Cast|\n",
      "+--------------------+----+--------------------+--------------------+--------------------+--------------------+---------------+------+--------------------+------------------+--------------------+--------------------+\n",
      "|       New York Doll|2005|\"A recovering alc...| of the rock band...| is given a chanc...|A recovering alco...|      tt0436629|    75|         jwD04NsnLLg|               7.9|https://hydramovi...|       Greg Whiteley|\n",
      "|                  89|2017|89 tells the incr...|The true story of...|           tt7614404|                  91|    5hfAExhHTMM|   8.1|https://hydramovi...|      Dave Stewart|           Lee Dixon|          Ian Wright|\n",
      "|     Andre the Giant|2018|A look at the lif...|A look at the lif...|           tt6543420|                  85|    f_jTeuajas0|   8.2|https://hydramovi...|       Jason Hehir|        Robin Wright|          Cary Elwes|\n",
      "|     Pan's Labyrinth|2006|In 1944 falangist...|In the falangist ...|           tt0457430|                 118|    E7XGNPXdlGQ|   8.2|https://hydramovi...|Guillermo del Toro|  Guillermo del Toro|Ariadna Gil|Ivana...|\n",
      "|       Chasing Coral|2017|Coral reefs aroun...|Coral reefs aroun...|           tt6333054|                  93|    b6fHA9R2cKI|   8.1|https://hydramovi...|     Jeff Orlowski|        Davis Coombe|Andrew Ackerman|P...|\n",
      "|        The Farthest|2017|Is it humankind's...|It is one of huma...|           tt6223974|                 121|    znTdk_de_K8|   8.1|https://hydramovi...|     Emer Reynolds|       Emer Reynolds|Carolyn Porco|Fra...|\n",
      "|           Your Name|2016|Mitsuha is the da...|Two strangers fin...|           tt5311514|                 106|    VgixlvX28-g|   8.4|https://hydramovi...|    Makoto Shinkai|      Makoto Shinkai|Mone Kamishiraish...|\n",
      "|Three Billboards ...|2017|THREE BILLBOARDS ...|A mother personal...|           tt5027774|                 115|    Jit3YhGx5pU|   8.2|https://hydramovi...|   Martin McDonagh|     Martin McDonagh|Frances McDormand...|\n",
      "|                Coco|2017|Despite his famil...|Aspiring musician...|           tt2380307|                   0|    6Zxj9q8Yjdw|   8.5|https://hydramovi...|       Lee Unkrich|         Lee Unkrich|Anthony Gonzalez|...|\n",
      "|Cuba and the Came...|2017|Life in Cuba for ...|Life in Cuba for ...|           tt7320560|                 113|    lsZ8hDutkeM|   8.2|https://hydramovi...|        Jon Alpert|          Jon Alpert|                NULL|\n",
      "|   Blade Runner 2049|2017|Thirty years afte...|A young blade run...|           tt1856101|                 164|    gCcx85zbxz4|   8.1|https://hydramovi...|  Denis Villeneuve|     Hampton Fancher|Harrison Ford|Rya...|\n",
      "|    Ingrid Goes West|2017|\"Ingrid Thorburn ...| boho-chic lifest...| their relationsh...|An unhinged socia...|      tt5962210|    98|         xP4vD1tWbPU|               6.7|https://hydramovi...|         Matt Spicer|\n",
      "|The Phantom of th...|2011|In 1986, Andrew L...|A disfigured musi...|           tt2077886|                 137|    wp83o8jgQOg|   8.8|https://hydramovi...|       Nick Morris|     Richard Stilgoe|Ramin Karimloo|Si...|\n",
      "|     Alone in Berlin|2016|\"In 1940, German ...|\"\" regardless of ...| Otto and Anna ar...|After a Nazi Germ...|      tt3026488|   103|         gcpv3l6csBw|               6.4|https://hydramovi...|       Vincent Perez|\n",
      "|Queen Rock Montre...|2007|The movie contain...|The movie contain...|           tt1421377|                 138|    A22oy8dFjqc|   8.6|https://hydramovi...|      Saul Swimmer|         John Deacon|     Freddie Mercury|\n",
      "| A Cure for Wellness|2016|\"An ambitious you...| his sanity is te...| as he finds hims...|An ambitious youn...|      tt4731136|   146|         JF1rLFCdewU|               6.4|https://hydramovi...|      Gore Verbinski|\n",
      "|               Logan|2017|In 2029 the mutan...|In the near futur...|           tt3315342|                 137|    DekuSxJgpbY|   8.1|https://hydramovi...|     James Mangold|       James Mangold|Hugh Jackman|Patr...|\n",
      "|          La La Land|2016|Aspiring actress ...|While navigating ...|           tt3783958|                 128|    0pdqf4P9MB8|   8.1|https://hydramovi...|   Damien Chazelle|     Damien Chazelle|Emma Stone|Rosema...|\n",
      "|                Lion|2016|In 1986, Saroo wa...|A five-year-old I...|           tt3741834|                 118|    -RNI9o06vqo|   8.1|https://hydramovi...|       Garth Davis|      Saroo Brierley|Dev Patel|Nicole ...|\n",
      "|       Hacksaw Ridge|2016|The true story of...|World War II Amer...|           tt2119532|                 139|    s2-1hz1juBI|   8.2|https://hydramovi...|        Mel Gibson|    Robert Schenkkan|Andrew Garfield|L...|\n",
      "+--------------------+----+--------------------+--------------------+--------------------+--------------------+---------------+------+--------------------+------------------+--------------------+--------------------+\n",
      "only showing top 20 rows\n",
      "\n"
     ]
    }
   ],
   "source": [
    "high_rated_movies = movies_df.filter(col(\"Rating\") > 8.0)\n",
    "print(\"vi) Movies with IMDb rating greater than 8.0:\")\n",
    "high_rated_movies.show()"
   ]
  },
  {
   "cell_type": "code",
   "execution_count": 9,
   "id": "8bd17ef1",
   "metadata": {},
   "outputs": [
    {
     "name": "stdout",
     "output_type": "stream",
     "text": [
      "+--------------------+----+--------------------+--------------------+---------+-------+---------------+------+--------------------+-------------------+-----------------+--------------------+\n",
      "|               Title|Year|             Summary|       Short Summary|  IMDB ID|Runtime|YouTube Trailer|Rating|        Movie Poster|           Director|          Writers|                Cast|\n",
      "+--------------------+----+--------------------+--------------------+---------+-------+---------------+------+--------------------+-------------------+-----------------+--------------------+\n",
      "|    A Moving Romance|2017|Interior designer...|After inheriting ...|tt5039242|     90|           NULL|   6.1|https://hydramovi...|         W.D. Hogan|  Alex Greenfield|Ambyr Childers|Ke...|\n",
      "|     The Coming Days|2010|In the near futur...|In the near futur...|tt1545985|    125|           NULL|   6.3|https://hydramovi...|        Lars Kraume|      Lars Kraume|August Diehl|Bern...|\n",
      "|            Iron Men|2017|Behind the scenes...|Behind the scenes...|tt6440810|     75|           NULL|   7.2|https://hydramovi...|      Paul Crompton|     Mabel Arnold|         Mark Gevaux|\n",
      "|          Fassbinder|2015|A film portrait o...|A film portrait o...|tt4536540|     95|           NULL|   6.6|https://hydramovi...|  Annekatrin Hendel|Annekatrin Hendel|Irm Hermann|Julia...|\n",
      "|   The Great Vazquez|2010|Is it possible to...|Is it possible to...|tt1525915|    106|           NULL|   6.3|https://hydramovi...|        Óscar Aibar|      Óscar Aibar|Álex Angulo|Mercè...|\n",
      "|      Some Dogs Bite|2010|It's a Crime to S...|A 14-year-old lea...|tt1518191|     85|           NULL|   6.2|https://hydramovi...|        Marc Munden|      Lin Coghlan|Aaron Taylor|Mich...|\n",
      "| The Grand Seduction|2013|The small harbor ...|To survive, a dyi...|tt2319580|    113|           NULL|     7|https://hydramovi...|       Don McKellar|        Ken Scott|Brendan Gleeson|T...|\n",
      "| Paradise Found 2015|2015|A NASA scientist ...|A revolutionary s...|tt4187662|     26|           NULL|   6.7|https://hydramovi...|      Ron Dalrymple|    Ron Dalrymple|Daniel Dasent|Mar...|\n",
      "|           Entourage|2015|This movie picks ...|Movie star Vincen...|tt1674771|    104|           NULL|   6.6|https://hydramovi...|         Doug Ellin|       Doug Ellin|Adrian Grenier|Ke...|\n",
      "|             Cop Car|2015|A pair of ten-yea...|A small-town sher...|tt3813310|     88|           NULL|   6.3|https://hydramovi...|          Jon Watts|        Jon Watts|Hays Wellford|Jam...|\n",
      "|        Tomorrowland|2015|\"Bound by a share...|Bound by a shared...|tt1964418|    130|           NULL|   6.5|https://hydramovi...|          Brad Bird|   Damon Lindelof|Britt Robertson|G...|\n",
      "|Me and Earl and t...|2015|Seventeen-year-ol...|High schooler Gre...|tt2582496|    105|           NULL|   7.8|https://hydramovi...|Alfonso Gomez-Rejon|    Jesse Andrews|Olivia Cooke|RJ C...|\n",
      "|         San Andreas|2015|In San Andreas, C...|In the aftermath ...|tt2126355|    114|           NULL|   6.1|https://hydramovi...|        Brad Peyton|     Carlton Cuse|Carla Gugino|Dway...|\n",
      "|Mr Blue Sky: The ...|2012|As the creative f...|As the creative f...|tt2440214|     60|           NULL|   7.5|https://hydramovi...|      Martyn Atkins|    Martyn Atkins|Dhani Harrison|Je...|\n",
      "|The Search for Fr...|2015|THE SEARCH FOR FR...|THE SEARCH FOR FR...|tt4943594|     92|           NULL|   6.9|https://hydramovi...|           Jon Long|         Jon Long|Annie Boulanger|B...|\n",
      "|     Z for Zachariah|2015|In the wake of a ...|In the wake of a ...|tt1598642|     98|           NULL|     6|https://hydramovi...|        Craig Zobel|      Nissar Modi|Chiwetel Ejiofor|...|\n",
      "|              Lifted|2010|Henry Matthews is...|13 year old Henry...|tt1492959|    108|           NULL|   6.7|https://hydramovi...|     Lexi Alexander|   Lexi Alexander|Dash Mihok|Nicki ...|\n",
      "|          Sherrybaby|2006|Sherry Swanson re...|Sherry tries to i...|tt0423169|      0|           NULL|   6.6|https://hydramovi...|     Laurie Collyer|   Laurie Collyer|Maggie Gyllenhaal...|\n",
      "|         Rush Hour 2|2001|It's vacation tim...|Carter and Lee he...|tt0266915|     90|           NULL|   6.6|https://hydramovi...|       Brett Ratner|     Ross LaManna|Chris Tucker|Jack...|\n",
      "|              G.B.F.|2013|Social warfare er...|What happens afte...|tt2429074|     92|           NULL|     6|https://hydramovi...|       Darren Stein|    George Northy|Michael J. Willet...|\n",
      "+--------------------+----+--------------------+--------------------+---------+-------+---------------+------+--------------------+-------------------+-----------------+--------------------+\n",
      "only showing top 20 rows\n",
      "\n"
     ]
    }
   ],
   "source": [
    "# vii) Which movies do not have a YouTube trailer code?\n",
    "movies_without_trailer = movies_df.filter(col(\"YouTube Trailer\").isNull())\n",
    "# print(\"vii) Movies without a YouTube trailer code:\")\n",
    "movies_without_trailer.show()"
   ]
  },
  {
   "cell_type": "code",
   "execution_count": 11,
   "id": "f7476103",
   "metadata": {},
   "outputs": [
    {
     "name": "stderr",
     "output_type": "stream",
     "text": [
      "\r",
      "[Stage 12:>                                                         (0 + 1) / 1]\r"
     ]
    },
    {
     "name": "stdout",
     "output_type": "stream",
     "text": [
      "+--------------------+-----------+\n",
      "|                Cast|Movie Count|\n",
      "+--------------------+-----------+\n",
      "|Christopher Plumm...|          1|\n",
      "|Ella Rumpf|Garanc...|          1|\n",
      "|Frank Welker|Grey...|          4|\n",
      "|Alexandra Daddari...|          1|\n",
      "|Jessica Haines|Jo...|          1|\n",
      "|Stephen Blackehar...|          1|\n",
      "|https://hydramovi...|          1|\n",
      "|Jon Bernthal|Rich...|          1|\n",
      "|Jaime King|Madele...|          1|\n",
      "|Haley Bennett|Jes...|          1|\n",
      "|Fausto Maria Scia...|          1|\n",
      "|https://hydramovi...|          1|\n",
      "|Dylan McDermott|K...|          1|\n",
      "|Dylan Minnette|Ja...|          1|\n",
      "|Emayatzy Corineal...|          1|\n",
      "|Albert Brooks|Ale...|          1|\n",
      "|         Colin Edwin|          1|\n",
      "|Alyson Hannigan|J...|          1|\n",
      "|Rosie Day|Sean Pe...|          1|\n",
      "|         a lynch mob|          1|\n",
      "+--------------------+-----------+\n",
      "only showing top 20 rows\n",
      "\n"
     ]
    },
    {
     "name": "stderr",
     "output_type": "stream",
     "text": [
      "\r",
      "                                                                                \r"
     ]
    }
   ],
   "source": [
    "# viii) How many movies does each cast member appear in?\n",
    "movies_per_cast_member = movies_df.select(\"Cast\").groupBy(\"Cast\").agg(count(\"*\").alias(\"Movie Count\"))\n",
    "# print(\"viii) Number of movies each cast member appears in:\")\n",
    "movies_per_cast_member.show()"
   ]
  },
  {
   "cell_type": "code",
   "execution_count": null,
   "id": "2bf9608e",
   "metadata": {},
   "outputs": [],
   "source": []
  }
 ],
 "metadata": {
  "kernelspec": {
   "display_name": "Python 3 (ipykernel)",
   "language": "python",
   "name": "python3"
  },
  "language_info": {
   "codemirror_mode": {
    "name": "ipython",
    "version": 3
   },
   "file_extension": ".py",
   "mimetype": "text/x-python",
   "name": "python",
   "nbconvert_exporter": "python",
   "pygments_lexer": "ipython3",
   "version": "3.11.5"
  }
 },
 "nbformat": 4,
 "nbformat_minor": 5
}
